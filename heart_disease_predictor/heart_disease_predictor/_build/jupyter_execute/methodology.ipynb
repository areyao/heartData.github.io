{
 "cells": [
  {
   "cell_type": "code",
   "execution_count": 1,
   "id": "fb6108ef",
   "metadata": {
    "tags": [
     "remove-input"
    ]
   },
   "outputs": [],
   "source": [
    "import pandas as pd\n",
    "import numpy as np"
   ]
  },
  {
   "cell_type": "markdown",
   "id": "c65b0bbd",
   "metadata": {},
   "source": [
    "### Methodology"
   ]
  },
  {
   "cell_type": "markdown",
   "id": "19fe8b3b",
   "metadata": {},
   "source": [
    "Using the following dataset, a classification project was identified to be the most suitable approach. Before testing and evaluating models, data pre-processing and cleaning must first be done."
   ]
  },
  {
   "cell_type": "markdown",
   "id": "a5b979f0",
   "metadata": {},
   "source": [
    "#### Preprocessing"
   ]
  },
  {
   "cell_type": "markdown",
   "id": "a12ba5fd",
   "metadata": {},
   "source": [
    "To be able to properly fit the data within the ML model without any issues on the final predictions, pre-processing must be done:\n",
    "- Null Value and Duplicates Handling\n",
    "    - As stated in the kaggle notebook, there are no null instances and duplicated instances in the dataset itself\n",
    "- Outlier Handling\n",
    "    - Number of entries BEFORE outlier handling:  918\n",
    "    - Number of entries AFTER outlier handling:  702\n",
    "\n",
    "- String Indexer for Categorical Values\n",
    "\n",
    "- Vector Assembly\n",
    "\n",
    "- Normalization"
   ]
  },
  {
   "cell_type": "markdown",
   "id": "20dc6d6f",
   "metadata": {},
   "source": [
    "#### ML Model Selection"
   ]
  },
  {
   "cell_type": "markdown",
   "id": "0213c4d5",
   "metadata": {},
   "source": [
    "With various classification models availabe to use with PySpark's Machine Learning Library (MLlib), these models have been used for testing suitable predictors:\n",
    "\n",
    "- Logistic Regression\n",
    "- Random Forest Classifier\n",
    "- Gradient-boosted Tress Classifier (GBT)\n",
    "- Linear Support Vector Machine (SVM)\n",
    "- Decision Tree Classifier\n",
    "\n",
    "Following a 7:3 train, test split on the data. The following values were recovered on model evaluation."
   ]
  },
  {
   "cell_type": "code",
   "execution_count": 2,
   "id": "cde7e20d",
   "metadata": {
    "tags": [
     "remove-input"
    ]
   },
   "outputs": [],
   "source": [
    "# Our custom styling method - this is fired once for each column (Series) of the DataFrame\n",
    "def highlight_cell(col, col_label, row_label):\n",
    "   # check if col is a column we want to highlight\n",
    "    if col.name == col_label:\n",
    "        # a boolean mask where True represents a row we want to highlight\n",
    "        mask = (col.index == row_label)\n",
    "        # return an array of string styles (e.g. [\"\", \"background-color: yellow\"])\n",
    "        return [\"background-color: yellow\" if val_bool else \"\" for val_bool in mask]\n",
    "    else:\n",
    "        # return an array of empty strings that has the same size as col (e.g. [\"\",\"\"])\n",
    "        return np.full_like(col, \"\", dtype=\"str\")"
   ]
  },
  {
   "cell_type": "markdown",
   "id": "324e911c",
   "metadata": {},
   "source": [
    "##### Models (W/O hyperparameter tuning)"
   ]
  },
  {
   "cell_type": "code",
   "execution_count": 3,
   "id": "ff3bcea4",
   "metadata": {
    "tags": [
     "remove-input"
    ]
   },
   "outputs": [
    {
     "data": {
      "text/html": [
       "<div>\n",
       "<style scoped>\n",
       "    .dataframe tbody tr th:only-of-type {\n",
       "        vertical-align: middle;\n",
       "    }\n",
       "\n",
       "    .dataframe tbody tr th {\n",
       "        vertical-align: top;\n",
       "    }\n",
       "\n",
       "    .dataframe thead th {\n",
       "        text-align: right;\n",
       "    }\n",
       "</style>\n",
       "<table border=\"1\" class=\"dataframe\">\n",
       "  <thead>\n",
       "    <tr style=\"text-align: right;\">\n",
       "      <th></th>\n",
       "      <th>Model</th>\n",
       "      <th>Accuracy</th>\n",
       "      <th>Precision</th>\n",
       "      <th>Recall</th>\n",
       "      <th>F1</th>\n",
       "      <th>AUC-ROC</th>\n",
       "    </tr>\n",
       "  </thead>\n",
       "  <tbody>\n",
       "    <tr>\n",
       "      <th></th>\n",
       "      <td>LogisticRegression</td>\n",
       "      <td>84.14</td>\n",
       "      <td>82.26</td>\n",
       "      <td>89.67</td>\n",
       "      <td>85.81</td>\n",
       "      <td>91.91</td>\n",
       "    </tr>\n",
       "    <tr>\n",
       "      <th></th>\n",
       "      <td>RandomForest</td>\n",
       "      <td>85.03</td>\n",
       "      <td>85.29</td>\n",
       "      <td>87.00</td>\n",
       "      <td>86.14</td>\n",
       "      <td>91.79</td>\n",
       "    </tr>\n",
       "    <tr>\n",
       "      <th></th>\n",
       "      <td>GradientBoost</td>\n",
       "      <td>78.79</td>\n",
       "      <td>77.18</td>\n",
       "      <td>85.67</td>\n",
       "      <td>81.20</td>\n",
       "      <td>86.59</td>\n",
       "    </tr>\n",
       "    <tr>\n",
       "      <th></th>\n",
       "      <td>SVC</td>\n",
       "      <td>85.38</td>\n",
       "      <td>85.39</td>\n",
       "      <td>87.67</td>\n",
       "      <td>86.51</td>\n",
       "      <td>91.69</td>\n",
       "    </tr>\n",
       "    <tr>\n",
       "      <th></th>\n",
       "      <td>DecisionTree</td>\n",
       "      <td>81.46</td>\n",
       "      <td>82.03</td>\n",
       "      <td>83.67</td>\n",
       "      <td>82.84</td>\n",
       "      <td>84.09</td>\n",
       "    </tr>\n",
       "  </tbody>\n",
       "</table>\n",
       "</div>"
      ],
      "text/plain": [
       "               Model  Accuracy  Precision  Recall     F1  AUC-ROC\n",
       "  LogisticRegression     84.14      82.26   89.67  85.81    91.91\n",
       "        RandomForest     85.03      85.29   87.00  86.14    91.79\n",
       "       GradientBoost     78.79      77.18   85.67  81.20    86.59\n",
       "                 SVC     85.38      85.39   87.67  86.51    91.69\n",
       "        DecisionTree     81.46      82.03   83.67  82.84    84.09"
      ]
     },
     "execution_count": 3,
     "metadata": {},
     "output_type": "execute_result"
    }
   ],
   "source": [
    "eval_cols = [\"Model\", \"Accuracy\", \"Precision\", \"Recall\", \"F1\", \"AUC-ROC\"] \n",
    "\n",
    "eval_base_eval = [[\"LogisticRegression\", 84.14, 82.26, 89.67, 85.81, 91.91],\n",
    "                  [\"RandomForest\",85.03,85.29,87.0,86.14,91.79],\n",
    "                  [\"GradientBoost\",78.79,77.18, 85.67, 81.2,86.59],\n",
    "                  [\"SVC\",85.38,85.39, 87.67, 86.51, 91.69],\n",
    "                  [\"DecisionTree\",81.46,82.03, 83.67,82.84,84.09]]\n",
    "\n",
    "base_pd = pd.DataFrame(eval_base_eval, columns=eval_cols)\n",
    "\n",
    "blankIndex=[''] * len(base_pd)\n",
    "base_pd.index=blankIndex\n",
    "base_pd"
   ]
  },
  {
   "cell_type": "markdown",
   "id": "1c146e81",
   "metadata": {},
   "source": [
    "##### Models (W/ hyperparameter tuning)"
   ]
  },
  {
   "cell_type": "code",
   "execution_count": 4,
   "id": "ac7d5096",
   "metadata": {
    "tags": [
     "remove-input"
    ]
   },
   "outputs": [
    {
     "data": {
      "text/html": [
       "<div>\n",
       "<style scoped>\n",
       "    .dataframe tbody tr th:only-of-type {\n",
       "        vertical-align: middle;\n",
       "    }\n",
       "\n",
       "    .dataframe tbody tr th {\n",
       "        vertical-align: top;\n",
       "    }\n",
       "\n",
       "    .dataframe thead th {\n",
       "        text-align: right;\n",
       "    }\n",
       "</style>\n",
       "<table border=\"1\" class=\"dataframe\">\n",
       "  <thead>\n",
       "    <tr style=\"text-align: right;\">\n",
       "      <th></th>\n",
       "      <th>Model</th>\n",
       "      <th>Accuracy</th>\n",
       "      <th>Precision</th>\n",
       "      <th>Recall</th>\n",
       "      <th>F1</th>\n",
       "      <th>AUC-ROC</th>\n",
       "    </tr>\n",
       "  </thead>\n",
       "  <tbody>\n",
       "    <tr>\n",
       "      <th></th>\n",
       "      <td>LogisticRegression</td>\n",
       "      <td>83.42</td>\n",
       "      <td>81.08</td>\n",
       "      <td>90.00</td>\n",
       "      <td>85.31</td>\n",
       "      <td>91.87</td>\n",
       "    </tr>\n",
       "    <tr>\n",
       "      <th></th>\n",
       "      <td>RandomForest</td>\n",
       "      <td>84.67</td>\n",
       "      <td>84.74</td>\n",
       "      <td>87.00</td>\n",
       "      <td>85.86</td>\n",
       "      <td>92.14</td>\n",
       "    </tr>\n",
       "    <tr>\n",
       "      <th></th>\n",
       "      <td>GradientBoost</td>\n",
       "      <td>85.74</td>\n",
       "      <td>85.26</td>\n",
       "      <td>88.67</td>\n",
       "      <td>86.93</td>\n",
       "      <td>91.65</td>\n",
       "    </tr>\n",
       "    <tr>\n",
       "      <th></th>\n",
       "      <td>SVC</td>\n",
       "      <td>84.49</td>\n",
       "      <td>83.18</td>\n",
       "      <td>89.00</td>\n",
       "      <td>85.99</td>\n",
       "      <td>91.77</td>\n",
       "    </tr>\n",
       "    <tr>\n",
       "      <th></th>\n",
       "      <td>DecisionTree</td>\n",
       "      <td>83.07</td>\n",
       "      <td>81.35</td>\n",
       "      <td>88.67</td>\n",
       "      <td>84.85</td>\n",
       "      <td>79.27</td>\n",
       "    </tr>\n",
       "  </tbody>\n",
       "</table>\n",
       "</div>"
      ],
      "text/plain": [
       "               Model  Accuracy  Precision  Recall     F1  AUC-ROC\n",
       "  LogisticRegression     83.42      81.08   90.00  85.31    91.87\n",
       "        RandomForest     84.67      84.74   87.00  85.86    92.14\n",
       "       GradientBoost     85.74      85.26   88.67  86.93    91.65\n",
       "                 SVC     84.49      83.18   89.00  85.99    91.77\n",
       "        DecisionTree     83.07      81.35   88.67  84.85    79.27"
      ]
     },
     "execution_count": 4,
     "metadata": {},
     "output_type": "execute_result"
    }
   ],
   "source": [
    "eval_tuned_eval = [[\"LogisticRegression\",   83.42,    81.08,  90.0,85.31,91.87],\n",
    "                   [\"RandomForest\",   84.67,    84.74,  87.0,85.86,92.14],\n",
    "                   [\"GradientBoost\",   85.74,    85.26, 88.67,86.93,91.65],\n",
    "                   [\"SVC\",   84.49,    83.18,  89.0,85.99,91.77],\n",
    "                   [\"DecisionTree\",   83.07,    81.35, 88.67,84.85,79.27]]\n",
    "\n",
    "tune_pd = pd.DataFrame(eval_tuned_eval, columns=eval_cols)\n",
    "tune_pd.index = blankIndex\n",
    "tune_pd"
   ]
  }
 ],
 "metadata": {
  "celltoolbar": "Tags",
  "kernelspec": {
   "display_name": "Python 3 (ipykernel)",
   "language": "python",
   "name": "python3"
  },
  "language_info": {
   "codemirror_mode": {
    "name": "ipython",
    "version": 3
   },
   "file_extension": ".py",
   "mimetype": "text/x-python",
   "name": "python",
   "nbconvert_exporter": "python",
   "pygments_lexer": "ipython3",
   "version": "3.11.4"
  }
 },
 "nbformat": 4,
 "nbformat_minor": 5
}