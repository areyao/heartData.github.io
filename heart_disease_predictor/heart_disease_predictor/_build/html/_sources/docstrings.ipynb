{
 "cells": [
  {
   "cell_type": "markdown",
   "id": "9ae896d5",
   "metadata": {},
   "source": [
    "## 1. configs"
   ]
  },
  {
   "cell_type": "markdown",
   "id": "5ab07be3",
   "metadata": {},
   "source": [
    "## 1.1 conf_script"
   ]
  },
  {
   "cell_type": "markdown",
   "id": "0cbffedc",
   "metadata": {},
   "source": [
    "paths (str) : data path based on relative dirs\n",
    "required_columns (list) : columns of the dataset from specific specifying column names by datatypes up to their names after pre-processing.\n",
    "meta_columns (list / str) : list / names of columns to be used in meta modelling\n",
    "iqr_thresh (int) : iqr threshold for outlier handling\n",
    "train_val_test_split (list) : ratio numbers for [train, validation, test]\n",
    "summary_type (list) : list of summary names required"
   ]
  },
  {
   "cell_type": "markdown",
   "id": "af51530b",
   "metadata": {},
   "source": [
    "## 2. src_model"
   ]
  },
  {
   "cell_type": "markdown",
   "id": "002423f7",
   "metadata": {},
   "source": [
    "### 2.1 identify_null_values"
   ]
  },
  {
   "cell_type": "markdown",
   "id": "77ab68d0",
   "metadata": {},
   "source": [
    "count_null : Counts null values if there are any in the dataset\n",
    "\n",
    ":param dataframe: the dataframe to assess null values from\n",
    ":return null_values: the count null values from the dataframe"
   ]
  },
  {
   "cell_type": "markdown",
   "id": "8a14d5d9",
   "metadata": {},
   "source": [
    "### 2.2 identify_outliers"
   ]
  },
  {
   "cell_type": "raw",
   "id": "d191819b",
   "metadata": {},
   "source": [
    "handle_outliers : Identifies and removes outliers in a dataframe\n",
    "\n",
    ":param dataframe: The dataframe to be assessed\n",
    ":param filt_col: A list of columns to identify outliers\n",
    ":param threshold : the threshold of the iqr\n",
    ":return dataframe: The dataframe with outliers removed"
   ]
  },
  {
   "cell_type": "markdown",
   "id": "7eb62a11",
   "metadata": {},
   "source": [
    "### 2.3 summary_statistics"
   ]
  },
  {
   "cell_type": "raw",
   "id": "82745a53",
   "metadata": {},
   "source": [
    "get_mdn_or_md : Retrieves the median or mode of the columns of the passed dataframe\n",
    "\n",
    ":param dataframe: The dataframe to be assessed\n",
    ":param stat_type: The type of desc. stat to return. (\"mode\" or \"median\")\n",
    ":return stat_list: A list of the dataframe's corresponding column statistic values.\n",
    "    \n",
    ":raises ValueError: If a value other than \"mode\" or \"median\" is passed as an arg."
   ]
  },
  {
   "cell_type": "markdown",
   "id": "bdf38d84",
   "metadata": {},
   "source": [
    "### 2.4 age_and_gender"
   ]
  },
  {
   "cell_type": "markdown",
   "id": "61144880",
   "metadata": {},
   "source": [
    "### 2.5 base_models"
   ]
  },
  {
   "cell_type": "markdown",
   "id": "a0210403",
   "metadata": {},
   "source": [
    "### 2.6 train_test_split"
   ]
  },
  {
   "cell_type": "markdown",
   "id": "d62514ed",
   "metadata": {},
   "source": [
    "### 2.7 data_pipeline"
   ]
  },
  {
   "cell_type": "markdown",
   "id": "7f138a17",
   "metadata": {},
   "source": [
    "### 2.8 meta_pipeline"
   ]
  },
  {
   "cell_type": "markdown",
   "id": "d0f9afdc",
   "metadata": {},
   "source": [
    "### 2.9 cross_validation"
   ]
  },
  {
   "cell_type": "markdown",
   "id": "53ff4ea5",
   "metadata": {},
   "source": [
    "### 2.10 extract_best_model"
   ]
  },
  {
   "cell_type": "markdown",
   "id": "00b6ee62",
   "metadata": {},
   "source": [
    "### 2.11 evaluate_metrics"
   ]
  },
  {
   "cell_type": "markdown",
   "id": "87b2b137",
   "metadata": {},
   "source": [
    "## 3. src_utilities"
   ]
  }
 ],
 "metadata": {
  "kernelspec": {
   "display_name": "Python 3 (ipykernel)",
   "language": "python",
   "name": "python3"
  },
  "language_info": {
   "codemirror_mode": {
    "name": "ipython",
    "version": 3
   },
   "file_extension": ".py",
   "mimetype": "text/x-python",
   "name": "python",
   "nbconvert_exporter": "python",
   "pygments_lexer": "ipython3",
   "version": "3.8.8"
  }
 },
 "nbformat": 4,
 "nbformat_minor": 5
}
